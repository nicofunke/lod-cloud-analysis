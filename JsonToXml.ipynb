{
 "cells": [
  {
   "cell_type": "markdown",
   "metadata": {},
   "source": [
    "# Conversion from JSON to XML"
   ]
  },
  {
   "cell_type": "code",
   "execution_count": 1,
   "metadata": {},
   "outputs": [],
   "source": [
    "import json\n",
    "import pandas as pd\n",
    "import dicttoxml"
   ]
  },
  {
   "cell_type": "markdown",
   "metadata": {},
   "source": [
    "First open the JSON as dict"
   ]
  },
  {
   "cell_type": "code",
   "execution_count": 2,
   "metadata": {},
   "outputs": [],
   "source": [
    "with open('lod-data.json') as file:\n",
    "    dict = json.load(file)"
   ]
  },
  {
   "cell_type": "markdown",
   "metadata": {},
   "source": [
    "Convert from dict to xml as bytes"
   ]
  },
  {
   "cell_type": "code",
   "execution_count": 4,
   "metadata": {},
   "outputs": [],
   "source": [
    "xmlBytes = dicttoxml.dicttoxml(dict)"
   ]
  },
  {
   "cell_type": "markdown",
   "metadata": {},
   "source": [
    "Finaly write bytes to file"
   ]
  },
  {
   "cell_type": "code",
   "execution_count": 5,
   "metadata": {},
   "outputs": [],
   "source": [
    "f = open(\"lod-data.xml\", \"wb\")\n",
    "f.write(xmlBytes)\n",
    "f.close()"
   ]
  },
  {
   "cell_type": "markdown",
   "metadata": {},
   "source": [
    "# Preparing data as DataFrame "
   ]
  },
  {
   "cell_type": "code",
   "execution_count": 101,
   "metadata": {},
   "outputs": [
    {
     "name": "stdout",
     "output_type": "stream",
     "text": [
      "opendatacommunities-transparency-impact-indicators-affordable-housing-starts\n",
      "opendatacommunities-imd-rank-2010\n",
      "Face Link\n",
      "personal-homepages\n",
      "opendatacommunities-transparency-impact-indicators-households-in-temporary-accommodation\n",
      "opendatacommunities-impact-indicators-planning-applications-granted\n",
      "opendatacommunities-households-2008\n",
      "opendatacommunities-households-social-lettings-general-needs-lettings-prp-household-composition\n",
      "instance-hub-fiscal-years\n",
      "opendatascotland-simd-income-rank\n",
      "Gastronomía Peruana\n",
      "medicine\n",
      "maurizio colcuc\n",
      "-------\n",
      "13 sources do not contain any link\n"
     ]
    }
   ],
   "source": [
    "counter = 0\n",
    "for key, value in dict.items():\n",
    "    if not value['sparql'] and not value['full_download'] and not value['other_download'] and not value['example']:\n",
    "        print(key)\n",
    "        counter+=1\n",
    "print(\"-------\")\n",
    "print( str(counter) + \" sources do not contain any link\")"
   ]
  },
  {
   "cell_type": "markdown",
   "metadata": {},
   "source": [
    "Each data source contains at least one of the four attributes \"sparql\", \"full_download\", \"other_download\" or \"example\". \n",
    "Only 13 Sources exist, which do not contain none of those attributes. Since those sources do not contain any link at all, they are negligible."
   ]
  },
  {
   "cell_type": "markdown",
   "metadata": {},
   "source": [
    "First convert the data to pandas"
   ]
  },
  {
   "cell_type": "code",
   "execution_count": 55,
   "metadata": {},
   "outputs": [],
   "source": [
    "pdData = pd.DataFrame.from_dict(dict).transpose()"
   ]
  },
  {
   "cell_type": "markdown",
   "metadata": {},
   "source": [
    "Check the content of the \"status\" attributes: "
   ]
  },
  {
   "cell_type": "code",
   "execution_count": 84,
   "metadata": {},
   "outputs": [
    {
     "name": "stdout",
     "output_type": "stream",
     "text": [
      "Every status contains either 'OK' or 'FAIL'\n"
     ]
    }
   ],
   "source": [
    "check = True\n",
    "for x in pdData[pdData['sparql'].apply(lambda x : not not x)]['sparql']:\n",
    "    check = check and \"FAIL\" in x[0]['status'] or \"OK\" in x[0]['status']\n",
    "for x in pdData[pdData['full_download'].apply(lambda x : not not x)]['full_download']:\n",
    "    check = check and \"FAIL\" in x[0]['status'] or \"OK\" in x[0]['status']\n",
    "for x in pdData[pdData['other_download'].apply(lambda x : not not x)]['other_download']:\n",
    "    check = check and \"FAIL\" in x[0]['status'] or \"OK\" in x[0]['status']\n",
    "for x in pdData[pdData['example'].apply(lambda x : not not x)]['example']:\n",
    "    check = check and \"FAIL\" in x[0]['status'] or \"OK\" in x[0]['status']\n",
    "if check:\n",
    "    print(\"Every status contains either 'OK' or 'FAIL'\")\n",
    "else:\n",
    "    print(\"There exists a status not containing 'FAIL' nor 'OK'\")"
   ]
  },
  {
   "cell_type": "markdown",
   "metadata": {},
   "source": [
    "Knowing this, we can add more attributes to the data:"
   ]
  },
  {
   "cell_type": "code",
   "execution_count": 96,
   "metadata": {},
   "outputs": [],
   "source": [
    "pdData['sparql_alive'] = [ not ( not x or \"FAIL\" in x[0]['status']) for x in pdData['sparql'] ]\n",
    "pdData['full_download_alive'] = [ not ( not x or \"FAIL\" in x[0]['status']) for x in pdData['full_download'] ]\n",
    "pdData['other_download_alive'] = [ not ( not x or \"FAIL\" in x[0]['status']) for x in pdData['other_download'] ]\n",
    "pdData['example_alive'] = [ not ( not x or \"FAIL\" in x[0]['status']) for x in pdData['example']]\n",
    "pdData['alive'] = pdData.apply(lambda row: row['example_alive'] or row['other_download_alive'] or row['full_download_alive'] or row['sparql_alive'], axis=1)"
   ]
  },
  {
   "cell_type": "markdown",
   "metadata": {},
   "source": [
    "# Analysis of the data "
   ]
  },
  {
   "cell_type": "code",
   "execution_count": 103,
   "metadata": {},
   "outputs": [],
   "source": [
    "import matplotlib.pyplot as plt"
   ]
  },
  {
   "cell_type": "code",
   "execution_count": 135,
   "metadata": {},
   "outputs": [],
   "source": [
    "totalSources = len(pdData)\n",
    "sourcesAlive = len(pdData[pdData['alive']])\n",
    "sourcesDead =  totalSources - sourcesAlive"
   ]
  },
  {
   "cell_type": "code",
   "execution_count": 136,
   "metadata": {},
   "outputs": [
    {
     "data": {
      "image/png": "[encoded data removed]",
      "text/plain": [
       "<Figure size 504x504 with 1 Axes>"
      ]
     },
     "metadata": {},
     "output_type": "display_data"
    }
   ],
   "source": [
    "labels = 'Alive', 'Dead'\n",
    "sizes = [sourcesAlive, sourcesDead]\n",
    "colors = ['yellowgreen', 'lightcoral', 'gold', 'lightskyblue']\n",
    "explode = (0.1, 0) \n",
    "\n",
    "def make_autopct(values):\n",
    "    def my_autopct(pct):\n",
    "        total = sum(values)\n",
    "        val = int(round(pct*total/100.0))\n",
    "        return '{p:.2f}%  ({v:d})'.format(p=pct,v=val)\n",
    "    return my_autopct\n",
    "\n",
    "fig1, ax1 = plt.subplots(figsize=(7,7))\n",
    "ax1.pie(sizes, explode=explode, labels=labels, \n",
    "        shadow=True, startangle=90, colors=colors, autopct=lambda p: '{:.0f}'.format(p * totalSources  / 100))\n",
    "ax1.axis('equal')  # Equal aspect ratio ensures that pie is drawn as a circle.\n",
    "\n",
    "plt.show()\n",
    "\n"
   ]
  }
 ],
 "metadata": {
  "kernelspec": {
   "display_name": "Python 3",
   "language": "python",
   "name": "python3"
  },
  "language_info": {
   "codemirror_mode": {
    "name": "ipython",
    "version": 3
   },
   "file_extension": ".py",
   "mimetype": "text/x-python",
   "name": "python",
   "nbconvert_exporter": "python",
   "pygments_lexer": "ipython3",
   "version": "3.6.5"
  }
 },
 "nbformat": 4,
 "nbformat_minor": 2
}
