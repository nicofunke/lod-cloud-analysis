{
 "cells": [
  {
   "cell_type": "markdown",
   "metadata": {},
   "source": [
    "# Conversion from JSON to XML"
   ]
  },
  {
   "cell_type": "code",
   "execution_count": 184,
   "metadata": {},
   "outputs": [],
   "source": [
    "import json\n",
    "import pandas as pd\n",
    "import dicttoxml\n",
    "import matplotlib.pyplot as plt\n",
    "import numpy as np"
   ]
  },
  {
   "cell_type": "markdown",
   "metadata": {},
   "source": [
    "First open the JSON as dict"
   ]
  },
  {
   "cell_type": "code",
   "execution_count": 2,
   "metadata": {},
   "outputs": [],
   "source": [
    "with open('lod-data.json') as file:\n",
    "    dict = json.load(file)"
   ]
  },
  {
   "cell_type": "markdown",
   "metadata": {},
   "source": [
    "Convert from dict to xml as bytes"
   ]
  },
  {
   "cell_type": "code",
   "execution_count": 4,
   "metadata": {},
   "outputs": [],
   "source": [
    "xmlBytes = dicttoxml.dicttoxml(dict)"
   ]
  },
  {
   "cell_type": "markdown",
   "metadata": {},
   "source": [
    "Finaly write bytes to file"
   ]
  },
  {
   "cell_type": "code",
   "execution_count": 5,
   "metadata": {},
   "outputs": [],
   "source": [
    "f = open(\"lod-data.xml\", \"wb\")\n",
    "f.write(xmlBytes)\n",
    "f.close()"
   ]
  },
  {
   "cell_type": "markdown",
   "metadata": {},
   "source": [
    "# Preparing data as DataFrame "
   ]
  },
  {
   "cell_type": "code",
   "execution_count": 101,
   "metadata": {},
   "outputs": [
    {
     "name": "stdout",
     "output_type": "stream",
     "text": [
      "opendatacommunities-transparency-impact-indicators-affordable-housing-starts\n",
      "opendatacommunities-imd-rank-2010\n",
      "Face Link\n",
      "personal-homepages\n",
      "opendatacommunities-transparency-impact-indicators-households-in-temporary-accommodation\n",
      "opendatacommunities-impact-indicators-planning-applications-granted\n",
      "opendatacommunities-households-2008\n",
      "opendatacommunities-households-social-lettings-general-needs-lettings-prp-household-composition\n",
      "instance-hub-fiscal-years\n",
      "opendatascotland-simd-income-rank\n",
      "Gastronomía Peruana\n",
      "medicine\n",
      "maurizio colcuc\n",
      "-------\n",
      "13 sources do not contain any link\n"
     ]
    }
   ],
   "source": [
    "counter = 0\n",
    "for key, value in dict.items():\n",
    "    if not value['sparql'] and not value['full_download'] and not value['other_download'] and not value['example']:\n",
    "        print(key)\n",
    "        counter+=1\n",
    "print(\"-------\")\n",
    "print( str(counter) + \" sources do not contain any link\")"
   ]
  },
  {
   "cell_type": "markdown",
   "metadata": {},
   "source": [
    "Each data source contains at least one of the four attributes \"sparql\", \"full_download\", \"other_download\" or \"example\". \n",
    "Only 13 Sources exist, which do not contain none of those attributes. Since those sources do not contain any link at all, they are negligible."
   ]
  },
  {
   "cell_type": "markdown",
   "metadata": {},
   "source": [
    "First convert the data to pandas"
   ]
  },
  {
   "cell_type": "code",
   "execution_count": 55,
   "metadata": {},
   "outputs": [],
   "source": [
    "pdData = pd.DataFrame.from_dict(dict).transpose()"
   ]
  },
  {
   "cell_type": "markdown",
   "metadata": {},
   "source": [
    "Check the content of the \"status\" attributes: "
   ]
  },
  {
   "cell_type": "code",
   "execution_count": 84,
   "metadata": {},
   "outputs": [
    {
     "name": "stdout",
     "output_type": "stream",
     "text": [
      "Every status contains either 'OK' or 'FAIL'\n"
     ]
    }
   ],
   "source": [
    "check = True\n",
    "for x in pdData[pdData['sparql'].apply(lambda x : not not x)]['sparql']:\n",
    "    check = check and \"FAIL\" in x[0]['status'] or \"OK\" in x[0]['status']\n",
    "for x in pdData[pdData['full_download'].apply(lambda x : not not x)]['full_download']:\n",
    "    check = check and \"FAIL\" in x[0]['status'] or \"OK\" in x[0]['status']\n",
    "for x in pdData[pdData['other_download'].apply(lambda x : not not x)]['other_download']:\n",
    "    check = check and \"FAIL\" in x[0]['status'] or \"OK\" in x[0]['status']\n",
    "for x in pdData[pdData['example'].apply(lambda x : not not x)]['example']:\n",
    "    check = check and \"FAIL\" in x[0]['status'] or \"OK\" in x[0]['status']\n",
    "if check:\n",
    "    print(\"Every status contains either 'OK' or 'FAIL'\")\n",
    "else:\n",
    "    print(\"There exists a status not containing 'FAIL' nor 'OK'\")"
   ]
  },
  {
   "cell_type": "markdown",
   "metadata": {},
   "source": [
    "Knowing this, we can add more attributes to the data and create a summary:"
   ]
  },
  {
   "cell_type": "code",
   "execution_count": 181,
   "metadata": {},
   "outputs": [],
   "source": [
    "def extendAttributes(pdData):\n",
    "    pdData['sparql_alive'] = [ not ( not x or \"FAIL\" in x[0]['status']) for x in pdData['sparql'] ]\n",
    "    pdData['full_download_alive'] = [ not ( not x or \"FAIL\" in x[0]['status']) for x in pdData['full_download'] ]\n",
    "    pdData['other_download_alive'] = [ not ( not x or \"FAIL\" in x[0]['status']) for x in pdData['other_download'] ]\n",
    "    pdData['example_alive'] = [ not ( not x or \"FAIL\" in x[0]['status']) for x in pdData['example']]\n",
    "    pdData['alive'] = pdData.apply(lambda row: row['example_alive'] or row['other_download_alive'] or row['full_download_alive'] or row['sparql_alive'], axis=1)\n",
    "    return pdData\n",
    "\n",
    "def createSummary(pdData):\n",
    "    summary = pd.DataFrame()\n",
    "    summary['sources_total'] =  [ len(pdData) ] \n",
    "    summary['sources_alive'] = [ len(pdData[pdData['alive']]) ]\n",
    "    summary['sources_dead'] = [ totalSources - sourcesAlive ]\n",
    "    \n",
    "    summary['sparql_alive'] = [ len(pdData[pdData['sparql_alive']]) ] \n",
    "    summary['other_download_alive'] = [ len(pdData[pdData['other_download_alive']]) ]\n",
    "    summary['example_alive'] = [ len(pdData[pdData['example_alive']]) ]\n",
    "    summary['full_download_alive'] = [ len(pdData[pdData['full_download_alive']]) ]\n",
    "    \n",
    "    summary['sparql_exists'] = [ len(pdData[pdData['sparql'].apply(lambda x: not not x)]) ]\n",
    "    summary['other_download_exists'] = [ len(pdData[pdData['other_download'].apply(lambda x: not not x)]) ]\n",
    "    summary['example_exists'] = [ len(pdData[pdData['example'].apply(lambda x: not not x)]) ]\n",
    "    summary['full_download_exists'] = [ len(pdData[pdData['full_download'].apply(lambda x: not not x)]) ]\n",
    "    return summary\n"
   ]
  },
  {
   "cell_type": "code",
   "execution_count": 183,
   "metadata": {},
   "outputs": [],
   "source": [
    "pdData = extendAttributes(pdData)\n",
    "summary = createSummary(pdData)\n"
   ]
  },
  {
   "cell_type": "markdown",
   "metadata": {},
   "source": [
    "# Analysis of the data "
   ]
  },
  {
   "cell_type": "code",
   "execution_count": 170,
   "metadata": {},
   "outputs": [
    {
     "data": {
      "image/png": "[encoded data removed]",
      "text/plain": [
       "<Figure size 504x504 with 1 Axes>"
      ]
     },
     "metadata": {},
     "output_type": "display_data"
    }
   ],
   "source": [
    "labels = 'Alive', 'Dead'\n",
    "sizes = [summary['sources_alive'][0], summary['sources_dead'][0] ]\n",
    "colors = ['yellowgreen', 'lightcoral', 'gold', 'lightskyblue']\n",
    "explode = (0.1, 0) \n",
    "\n",
    "def make_autopct(values):\n",
    "    def my_autopct(pct):\n",
    "        val = int(round(pct* summary['sources_total']/100.0))\n",
    "        return '{p:.2f}%  ({v:d})'.format(p=pct,v=val)\n",
    "    return my_autopct\n",
    "\n",
    "fig1, ax1 = plt.subplots(figsize=(7,7))\n",
    "ax1.pie(sizes, explode=explode, labels=labels, \n",
    "        shadow=True, startangle=90, colors=colors, autopct=make_autopct(sizes))\n",
    "ax1.axis('equal')  # Equal aspect ratio ensures that pie is drawn as a circle.\n",
    "\n",
    "plt.show()"
   ]
  },
  {
   "cell_type": "code",
   "execution_count": 207,
   "metadata": {},
   "outputs": [
    {
     "data": {
      "image/png": "[encoded data removed]",
      "text/plain": [
       "<Figure size 864x576 with 1 Axes>"
      ]
     },
     "metadata": {},
     "output_type": "display_data"
    }
   ],
   "source": [
    "N = 5\n",
    "sources_total = (summary['example_exists'][0], summary['other_download_exists'][0], summary['full_download_exists'][0], summary['sparql_exists'][0], summary['sources_total'][0])\n",
    "sources_alive = (summary['example_alive'][0], summary['other_download_alive'][0], summary['full_download_alive'][0], summary['sparql_alive'][0], summary['sources_alive'][0])\n",
    "\n",
    "ind = np.arange(N) \n",
    "width = 0.42\n",
    "\n",
    "fig1, ax1 = plt.subplots(figsize=(12,8))\n",
    "\n",
    "ax1.bar(ind, sources_total, width, label='Total sources')\n",
    "ax1.bar(ind + width, women_means, width, label='Sources alive')\n",
    "\n",
    "plt.ylabel('')\n",
    "plt.title('Comparison of total sources and dead links')\n",
    "\n",
    "plt.xticks(ind + width / 2, ('example', 'other_download', 'full_download', 'sparql', 'total'))\n",
    "plt.legend(loc='best')\n",
    "plt.show()"
   ]
  }
 ],
 "metadata": {
  "kernelspec": {
   "display_name": "Python 3",
   "language": "python",
   "name": "python3"
  },
  "language_info": {
   "codemirror_mode": {
    "name": "ipython",
    "version": 3
   },
   "file_extension": ".py",
   "mimetype": "text/x-python",
   "name": "python",
   "nbconvert_exporter": "python",
   "pygments_lexer": "ipython3",
   "version": "3.6.5"
  }
 },
 "nbformat": 4,
 "nbformat_minor": 2
}
